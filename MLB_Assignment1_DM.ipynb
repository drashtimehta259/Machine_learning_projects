{
  "cells": [
    {
      "cell_type": "markdown",
      "metadata": {
        "id": "icymONUv5WpB"
      },
      "source": [
        "# Assignment 1\n",
        "\n",
        "\n",
        "## Students\n",
        "\n",
        "Please enter your data in the placeholders below.\n",
        "\n",
        "- Your full name: [PLACEHOLDER]\n",
        "- Your UNC Charlotte's email: [PLACEHOLDER]\n",
        "- Today's date: [PLACEHOLDER]\n",
        "\n",
        "## Instructions\n",
        "\n",
        "This is a Google Colab file. Read the text and execute the code in order. Each \"question\" subsection has an \"answer.\" Enter your answers as indicated. Once you are done, download this Colab as a `ipynb` file. See instructions on how to upload your `.ipynb` file in CANVAS."
      ]
    },
    {
      "cell_type": "markdown",
      "metadata": {
        "id": "pNEIr3am7KtO"
      },
      "source": [
        "# What is a model?\n",
        "\n",
        "A model is any kind of function that has predictive power. To illustrate this, we will use the `mtcars` dataset to model vehicles fuel efficiency (`mpg`) as a function of the vehicle's weight (`wt`).\n",
        "\n",
        "Let us start by taking a look into the `mtcars` dataset."
      ]
    },
    {
      "cell_type": "code",
      "execution_count": null,
      "metadata": {
        "colab": {
          "base_uri": "https://localhost:8080/",
          "height": 286
        },
        "id": "oMCAIOB-4mm8",
        "outputId": "0c779a28-d1c3-4952-f82d-5822c4c7d567",
        "vscode": {
          "languageId": "r"
        }
      },
      "outputs": [
        {
          "data": {
            "text/html": [
              "<table class=\"dataframe\">\n",
              "<caption>A data.frame: 6 × 11</caption>\n",
              "<thead>\n",
              "\t<tr><th></th><th scope=col>mpg</th><th scope=col>cyl</th><th scope=col>disp</th><th scope=col>hp</th><th scope=col>drat</th><th scope=col>wt</th><th scope=col>qsec</th><th scope=col>vs</th><th scope=col>am</th><th scope=col>gear</th><th scope=col>carb</th></tr>\n",
              "\t<tr><th></th><th scope=col>&lt;dbl&gt;</th><th scope=col>&lt;dbl&gt;</th><th scope=col>&lt;dbl&gt;</th><th scope=col>&lt;dbl&gt;</th><th scope=col>&lt;dbl&gt;</th><th scope=col>&lt;dbl&gt;</th><th scope=col>&lt;dbl&gt;</th><th scope=col>&lt;dbl&gt;</th><th scope=col>&lt;dbl&gt;</th><th scope=col>&lt;dbl&gt;</th><th scope=col>&lt;dbl&gt;</th></tr>\n",
              "</thead>\n",
              "<tbody>\n",
              "\t<tr><th scope=row>Mazda RX4</th><td>21.0</td><td>6</td><td>160</td><td>110</td><td>3.90</td><td>2.620</td><td>16.46</td><td>0</td><td>1</td><td>4</td><td>4</td></tr>\n",
              "\t<tr><th scope=row>Mazda RX4 Wag</th><td>21.0</td><td>6</td><td>160</td><td>110</td><td>3.90</td><td>2.875</td><td>17.02</td><td>0</td><td>1</td><td>4</td><td>4</td></tr>\n",
              "\t<tr><th scope=row>Datsun 710</th><td>22.8</td><td>4</td><td>108</td><td> 93</td><td>3.85</td><td>2.320</td><td>18.61</td><td>1</td><td>1</td><td>4</td><td>1</td></tr>\n",
              "\t<tr><th scope=row>Hornet 4 Drive</th><td>21.4</td><td>6</td><td>258</td><td>110</td><td>3.08</td><td>3.215</td><td>19.44</td><td>1</td><td>0</td><td>3</td><td>1</td></tr>\n",
              "\t<tr><th scope=row>Hornet Sportabout</th><td>18.7</td><td>8</td><td>360</td><td>175</td><td>3.15</td><td>3.440</td><td>17.02</td><td>0</td><td>0</td><td>3</td><td>2</td></tr>\n",
              "\t<tr><th scope=row>Valiant</th><td>18.1</td><td>6</td><td>225</td><td>105</td><td>2.76</td><td>3.460</td><td>20.22</td><td>1</td><td>0</td><td>3</td><td>1</td></tr>\n",
              "</tbody>\n",
              "</table>\n"
            ],
            "text/latex": [
              "A data.frame: 6 × 11\n",
              "\\begin{tabular}{r|lllllllllll}\n",
              "  & mpg & cyl & disp & hp & drat & wt & qsec & vs & am & gear & carb\\\\\n",
              "  & <dbl> & <dbl> & <dbl> & <dbl> & <dbl> & <dbl> & <dbl> & <dbl> & <dbl> & <dbl> & <dbl>\\\\\n",
              "\\hline\n",
              "\tMazda RX4 & 21.0 & 6 & 160 & 110 & 3.90 & 2.620 & 16.46 & 0 & 1 & 4 & 4\\\\\n",
              "\tMazda RX4 Wag & 21.0 & 6 & 160 & 110 & 3.90 & 2.875 & 17.02 & 0 & 1 & 4 & 4\\\\\n",
              "\tDatsun 710 & 22.8 & 4 & 108 &  93 & 3.85 & 2.320 & 18.61 & 1 & 1 & 4 & 1\\\\\n",
              "\tHornet 4 Drive & 21.4 & 6 & 258 & 110 & 3.08 & 3.215 & 19.44 & 1 & 0 & 3 & 1\\\\\n",
              "\tHornet Sportabout & 18.7 & 8 & 360 & 175 & 3.15 & 3.440 & 17.02 & 0 & 0 & 3 & 2\\\\\n",
              "\tValiant & 18.1 & 6 & 225 & 105 & 2.76 & 3.460 & 20.22 & 1 & 0 & 3 & 1\\\\\n",
              "\\end{tabular}\n"
            ],
            "text/markdown": [
              "\n",
              "A data.frame: 6 × 11\n",
              "\n",
              "| <!--/--> | mpg &lt;dbl&gt; | cyl &lt;dbl&gt; | disp &lt;dbl&gt; | hp &lt;dbl&gt; | drat &lt;dbl&gt; | wt &lt;dbl&gt; | qsec &lt;dbl&gt; | vs &lt;dbl&gt; | am &lt;dbl&gt; | gear &lt;dbl&gt; | carb &lt;dbl&gt; |\n",
              "|---|---|---|---|---|---|---|---|---|---|---|---|\n",
              "| Mazda RX4 | 21.0 | 6 | 160 | 110 | 3.90 | 2.620 | 16.46 | 0 | 1 | 4 | 4 |\n",
              "| Mazda RX4 Wag | 21.0 | 6 | 160 | 110 | 3.90 | 2.875 | 17.02 | 0 | 1 | 4 | 4 |\n",
              "| Datsun 710 | 22.8 | 4 | 108 |  93 | 3.85 | 2.320 | 18.61 | 1 | 1 | 4 | 1 |\n",
              "| Hornet 4 Drive | 21.4 | 6 | 258 | 110 | 3.08 | 3.215 | 19.44 | 1 | 0 | 3 | 1 |\n",
              "| Hornet Sportabout | 18.7 | 8 | 360 | 175 | 3.15 | 3.440 | 17.02 | 0 | 0 | 3 | 2 |\n",
              "| Valiant | 18.1 | 6 | 225 | 105 | 2.76 | 3.460 | 20.22 | 1 | 0 | 3 | 1 |\n",
              "\n"
            ],
            "text/plain": [
              "                  mpg  cyl disp hp  drat wt    qsec  vs am gear carb\n",
              "Mazda RX4         21.0 6   160  110 3.90 2.620 16.46 0  1  4    4   \n",
              "Mazda RX4 Wag     21.0 6   160  110 3.90 2.875 17.02 0  1  4    4   \n",
              "Datsun 710        22.8 4   108   93 3.85 2.320 18.61 1  1  4    1   \n",
              "Hornet 4 Drive    21.4 6   258  110 3.08 3.215 19.44 1  0  3    1   \n",
              "Hornet Sportabout 18.7 8   360  175 3.15 3.440 17.02 0  0  3    2   \n",
              "Valiant           18.1 6   225  105 2.76 3.460 20.22 1  0  3    1   "
            ]
          },
          "metadata": {},
          "output_type": "display_data"
        }
      ],
      "source": [
        "head(mtcars)"
      ]
    },
    {
      "cell_type": "markdown",
      "metadata": {
        "id": "K1ZqEZi_8NQd"
      },
      "source": [
        "## Question 1\n",
        "In the machine learning world, columns of data are sometimes called features. How many features does the `mtcars` dataset has?\n",
        "\n",
        "### Answer 1\n",
        "The features for the mtcars() dataset is 11. As the dataframe mentions 6*11 when we perform head(mtcars) showing 11 columns/features and 6 head rows."
      ]
    },
    {
      "cell_type": "markdown",
      "metadata": {
        "id": "PqyzKbOq8kIw"
      },
      "source": [
        "## Visualizing the dataset in a pairs plot\n",
        "\n",
        "Now that we know what we have to work with, we could try seeingif there's a relationship between the car's fuel efficiency and any one of these fetures.\n",
        "\n",
        "Let us plot all plots that pairs `mpg` with other features in `mtcars`."
      ]
    },
    {
      "cell_type": "code",
      "execution_count": null,
      "metadata": {
        "colab": {
          "base_uri": "https://localhost:8080/",
          "height": 437
        },
        "id": "ACts0XkB9PvA",
        "outputId": "6236f73c-6f1d-4059-c422-bfb92911cb56",
        "vscode": {
          "languageId": "r"
        }
      },
      "outputs": [
        {
          "data": {
            "image/png": "[encoded data removed]",
            "text/plain": [
              "plot without title"
            ]
          },
          "metadata": {
            "image/png": {
              "height": 420,
              "width": 420
            }
          },
          "output_type": "display_data"
        }
      ],
      "source": [
        "pairs(mtcars[1:7], lower.panel = NULL)"
      ]
    },
    {
      "cell_type": "markdown",
      "metadata": {
        "id": "dgNpLK8i9XNO"
      },
      "source": [
        "## Question 2\n",
        "\n",
        "Explain all elements in the `pairs(mtcars[1:7], lower.panel = NULL)` command line.\n",
        "\n",
        "## Answer 2\n",
        "\n",
        "- `pairs()`: It is a plotting method in R, which is a fuction of scattered plots. This is used to create pairwise correlation plots. \n",
        "- `mtcars[1:7]`: In the mtcars, we are focusing on the first 7 columns, hence \"1:7\"\n",
        "- `lower.panel = NULL`: When we want to show only the upper panel and ignore the lower panel, we give the argument as \"lowel.panel = NULL\""
      ]
    },
    {
      "cell_type": "markdown",
      "metadata": {
        "id": "aBvlA0kV_HEO"
      },
      "source": [
        "## Vehicle weight against its fuel efficiency in miles per gallon\n",
        "\n",
        "First, the code below will create a plot of the vehicle weight (`wt`) against its fuel efficiency in miles per gallon (`mpg`). This plot is the basis for drawing a regression line through the data.\n",
        "\n",
        "Next, the code will extract the best fit to all data points and turn the plot into an equation. The code uses a function in `R` to model the value we're interested in, called a *response*, against other features in our dataset."
      ]
    },
    {
      "cell_type": "code",
      "execution_count": null,
      "metadata": {
        "colab": {
          "base_uri": "https://localhost:8080/",
          "height": 437
        },
        "id": "vz1M-8LzCqaF",
        "outputId": "5443d7bb-3356-4745-d9f9-2a4e444c622f",
        "vscode": {
          "languageId": "r"
        }
      },
      "outputs": [
        {
          "data": {
            "image/png": "[encoded data removed]",
            "text/plain": [
              "plot without title"
            ]
          },
          "metadata": {
            "image/png": {
              "height": 420,
              "width": 420
            }
          },
          "output_type": "display_data"
        }
      ],
      "source": [
        "# Plotting mpg vs. mt\n",
        "plot(\n",
        "  y = mtcars$mpg,\n",
        "  x = mtcars$wt,\n",
        "  xlab = \"Vehicle Weight\",\n",
        "  ylab = \"Vehicle Fuel Efficiency in Miles per Gallon\"\n",
        ")"
      ]
    },
    {
      "cell_type": "code",
      "execution_count": null,
      "metadata": {
        "colab": {
          "base_uri": "https://localhost:8080/",
          "height": 142
        },
        "id": "8K8Tuy8PAjnu",
        "outputId": "6b7503d7-a4b7-4334-f021-c70007e80aad",
        "vscode": {
          "languageId": "r"
        }
      },
      "outputs": [
        {
          "data": {
            "text/plain": [
              "\n",
              "Call:\n",
              "lm(formula = mpg ~ wt, data = mtcars)\n",
              "\n",
              "Coefficients:\n",
              "(Intercept)           wt  \n",
              "     37.285       -5.344  \n"
            ]
          },
          "metadata": {},
          "output_type": "display_data"
        }
      ],
      "source": [
        "# Calculating the model\n",
        "mt.model <- lm(formula = mpg ~ wt, data = mtcars)\n",
        "mt.model"
      ]
    },
    {
      "cell_type": "code",
      "execution_count": null,
      "metadata": {
        "colab": {
          "base_uri": "https://localhost:8080/",
          "height": 52
        },
        "id": "EIJkt_kCBtij",
        "outputId": "22b256a7-1e45-45c8-8710-1b18782acd7b",
        "vscode": {
          "languageId": "r"
        }
      },
      "outputs": [
        {
          "data": {
            "text/html": [
              "<strong>wt:</strong> -5.34447157272268"
            ],
            "text/latex": [
              "\\textbf{wt:} -5.34447157272268"
            ],
            "text/markdown": [
              "**wt:** -5.34447157272268"
            ],
            "text/plain": [
              "       wt \n",
              "-5.344472 "
            ]
          },
          "metadata": {},
          "output_type": "display_data"
        },
        {
          "data": {
            "text/html": [
              "<strong>(Intercept):</strong> 37.285126167342"
            ],
            "text/latex": [
              "\\textbf{(Intercept):} 37.285126167342"
            ],
            "text/markdown": [
              "**(Intercept):** 37.285126167342"
            ],
            "text/plain": [
              "(Intercept) \n",
              "   37.28513 "
            ]
          },
          "metadata": {},
          "output_type": "display_data"
        }
      ],
      "source": [
        "# Extracting desired values from the model\n",
        "coef(mt.model)[2]\n",
        "coef(mt.model)[1]"
      ]
    },
    {
      "cell_type": "markdown",
      "metadata": {
        "id": "TfSLA2-OA065"
      },
      "source": [
        "## Question 3\n",
        "Based on the output of the previous section, complete the following equation by replacing all placeholders with numbers.\n",
        "\n",
        "**Fuel Efficency =** wt **x Vehicle Weight +** intercept\n",
        "\n",
        "## Answer 3\n",
        "\n",
        "**Fuel Efficency =** 5.344 **x Vehicle Weight +** 37.285"
      ]
    },
    {
      "cell_type": "markdown",
      "metadata": {
        "id": "qILgq7mWfjoD"
      },
      "source": [
        "# Regression\n",
        "\n",
        "Regression modeling is something you most likelly have done numerous times without realizing you're doing machine learning.\n",
        "\n",
        "At its core, a regression line is onefor which we fit data that has an $x$ and a $y$ element. We then use an equation to predict what the corresponding output, $y$, should be for any given input, $x$. This is always done in numerical data.\n",
        "\n",
        "Again, let us use the `mtcars` dataset to work on an example regression problem. Read the comments and the code below. Execute the code in order and pay attention to the results. Use all that to answer the next questions."
      ]
    },
    {
      "cell_type": "code",
      "execution_count": null,
      "metadata": {
        "colab": {
          "base_uri": "https://localhost:8080/",
          "height": 286
        },
        "id": "V_lcoFW3gTKY",
        "outputId": "e6da8975-41e7-460e-cd31-fe40689de463",
        "vscode": {
          "languageId": "r"
        }
      },
      "outputs": [
        {
          "data": {
            "text/html": [
              "<table class=\"dataframe\">\n",
              "<caption>A data.frame: 6 × 11</caption>\n",
              "<thead>\n",
              "\t<tr><th></th><th scope=col>mpg</th><th scope=col>cyl</th><th scope=col>disp</th><th scope=col>hp</th><th scope=col>drat</th><th scope=col>wt</th><th scope=col>qsec</th><th scope=col>vs</th><th scope=col>am</th><th scope=col>gear</th><th scope=col>carb</th></tr>\n",
              "\t<tr><th></th><th scope=col>&lt;dbl&gt;</th><th scope=col>&lt;dbl&gt;</th><th scope=col>&lt;dbl&gt;</th><th scope=col>&lt;dbl&gt;</th><th scope=col>&lt;dbl&gt;</th><th scope=col>&lt;dbl&gt;</th><th scope=col>&lt;dbl&gt;</th><th scope=col>&lt;dbl&gt;</th><th scope=col>&lt;dbl&gt;</th><th scope=col>&lt;dbl&gt;</th><th scope=col>&lt;dbl&gt;</th></tr>\n",
              "</thead>\n",
              "<tbody>\n",
              "\t<tr><th scope=row>Mazda RX4</th><td>21.0</td><td>6</td><td>160</td><td>110</td><td>3.90</td><td>2.620</td><td>16.46</td><td>0</td><td>1</td><td>4</td><td>4</td></tr>\n",
              "\t<tr><th scope=row>Mazda RX4 Wag</th><td>21.0</td><td>6</td><td>160</td><td>110</td><td>3.90</td><td>2.875</td><td>17.02</td><td>0</td><td>1</td><td>4</td><td>4</td></tr>\n",
              "\t<tr><th scope=row>Datsun 710</th><td>22.8</td><td>4</td><td>108</td><td> 93</td><td>3.85</td><td>2.320</td><td>18.61</td><td>1</td><td>1</td><td>4</td><td>1</td></tr>\n",
              "\t<tr><th scope=row>Hornet 4 Drive</th><td>21.4</td><td>6</td><td>258</td><td>110</td><td>3.08</td><td>3.215</td><td>19.44</td><td>1</td><td>0</td><td>3</td><td>1</td></tr>\n",
              "\t<tr><th scope=row>Hornet Sportabout</th><td>18.7</td><td>8</td><td>360</td><td>175</td><td>3.15</td><td>3.440</td><td>17.02</td><td>0</td><td>0</td><td>3</td><td>2</td></tr>\n",
              "\t<tr><th scope=row>Valiant</th><td>18.1</td><td>6</td><td>225</td><td>105</td><td>2.76</td><td>3.460</td><td>20.22</td><td>1</td><td>0</td><td>3</td><td>1</td></tr>\n",
              "</tbody>\n",
              "</table>\n"
            ],
            "text/latex": [
              "A data.frame: 6 × 11\n",
              "\\begin{tabular}{r|lllllllllll}\n",
              "  & mpg & cyl & disp & hp & drat & wt & qsec & vs & am & gear & carb\\\\\n",
              "  & <dbl> & <dbl> & <dbl> & <dbl> & <dbl> & <dbl> & <dbl> & <dbl> & <dbl> & <dbl> & <dbl>\\\\\n",
              "\\hline\n",
              "\tMazda RX4 & 21.0 & 6 & 160 & 110 & 3.90 & 2.620 & 16.46 & 0 & 1 & 4 & 4\\\\\n",
              "\tMazda RX4 Wag & 21.0 & 6 & 160 & 110 & 3.90 & 2.875 & 17.02 & 0 & 1 & 4 & 4\\\\\n",
              "\tDatsun 710 & 22.8 & 4 & 108 &  93 & 3.85 & 2.320 & 18.61 & 1 & 1 & 4 & 1\\\\\n",
              "\tHornet 4 Drive & 21.4 & 6 & 258 & 110 & 3.08 & 3.215 & 19.44 & 1 & 0 & 3 & 1\\\\\n",
              "\tHornet Sportabout & 18.7 & 8 & 360 & 175 & 3.15 & 3.440 & 17.02 & 0 & 0 & 3 & 2\\\\\n",
              "\tValiant & 18.1 & 6 & 225 & 105 & 2.76 & 3.460 & 20.22 & 1 & 0 & 3 & 1\\\\\n",
              "\\end{tabular}\n"
            ],
            "text/markdown": [
              "\n",
              "A data.frame: 6 × 11\n",
              "\n",
              "| <!--/--> | mpg &lt;dbl&gt; | cyl &lt;dbl&gt; | disp &lt;dbl&gt; | hp &lt;dbl&gt; | drat &lt;dbl&gt; | wt &lt;dbl&gt; | qsec &lt;dbl&gt; | vs &lt;dbl&gt; | am &lt;dbl&gt; | gear &lt;dbl&gt; | carb &lt;dbl&gt; |\n",
              "|---|---|---|---|---|---|---|---|---|---|---|---|\n",
              "| Mazda RX4 | 21.0 | 6 | 160 | 110 | 3.90 | 2.620 | 16.46 | 0 | 1 | 4 | 4 |\n",
              "| Mazda RX4 Wag | 21.0 | 6 | 160 | 110 | 3.90 | 2.875 | 17.02 | 0 | 1 | 4 | 4 |\n",
              "| Datsun 710 | 22.8 | 4 | 108 |  93 | 3.85 | 2.320 | 18.61 | 1 | 1 | 4 | 1 |\n",
              "| Hornet 4 Drive | 21.4 | 6 | 258 | 110 | 3.08 | 3.215 | 19.44 | 1 | 0 | 3 | 1 |\n",
              "| Hornet Sportabout | 18.7 | 8 | 360 | 175 | 3.15 | 3.440 | 17.02 | 0 | 0 | 3 | 2 |\n",
              "| Valiant | 18.1 | 6 | 225 | 105 | 2.76 | 3.460 | 20.22 | 1 | 0 | 3 | 1 |\n",
              "\n"
            ],
            "text/plain": [
              "                  mpg  cyl disp hp  drat wt    qsec  vs am gear carb\n",
              "Mazda RX4         21.0 6   160  110 3.90 2.620 16.46 0  1  4    4   \n",
              "Mazda RX4 Wag     21.0 6   160  110 3.90 2.875 17.02 0  1  4    4   \n",
              "Datsun 710        22.8 4   108   93 3.85 2.320 18.61 1  1  4    1   \n",
              "Hornet 4 Drive    21.4 6   258  110 3.08 3.215 19.44 1  0  3    1   \n",
              "Hornet Sportabout 18.7 8   360  175 3.15 3.440 17.02 0  0  3    2   \n",
              "Valiant           18.1 6   225  105 2.76 3.460 20.22 1  0  3    1   "
            ]
          },
          "metadata": {},
          "output_type": "display_data"
        }
      ],
      "source": [
        "# Let us again check the dataframe.\n",
        "head(mtcars)\n"
      ]
    },
    {
      "cell_type": "code",
      "execution_count": null,
      "metadata": {
        "colab": {
          "base_uri": "https://localhost:8080/",
          "height": 437
        },
        "id": "avJC2sYNkNtG",
        "outputId": "db38b9de-2a4b-41e6-be2f-aca24aaf0053",
        "vscode": {
          "languageId": "r"
        }
      },
      "outputs": [
        {
          "data": {
            "image/png": "[encoded data removed]",
            "text/plain": [
              "plot without title"
            ]
          },
          "metadata": {
            "image/png": {
              "height": 420,
              "width": 420
            }
          },
          "output_type": "display_data"
        }
      ],
      "source": [
        "# This time we are interested in fuel efficiency (miles per gallon) and engine size. It helps plotting the data before thinking about the model.\n",
        "plot(\n",
        "    y = mtcars$mpg,\n",
        "    x = mtcars$disp,\n",
        "    xlab = \"Engine Size (cubic inches)\",\n",
        "    ylab = \"Fuel Efficiency (Miles Per Gallon)\"\n",
        ")"
      ]
    },
    {
      "cell_type": "code",
      "execution_count": null,
      "metadata": {
        "colab": {
          "base_uri": "https://localhost:8080/",
          "height": 34
        },
        "id": "zvFkVW6Vk6K_",
        "outputId": "7263d177-3618-4ec5-8dc0-f06bd0aebbd9",
        "vscode": {
          "languageId": "r"
        }
      },
      "outputs": [
        {
          "data": {
            "text/html": [
              "<style>\n",
              ".dl-inline {width: auto; margin:0; padding: 0}\n",
              ".dl-inline>dt, .dl-inline>dd {float: none; width: auto; display: inline-block}\n",
              ".dl-inline>dt::after {content: \":\\0020\"; padding-right: .5ex}\n",
              ".dl-inline>dt:not(:first-of-type) {padding-left: .5ex}\n",
              "</style><dl class=dl-inline><dt>(Intercept)</dt><dd>29.5998547561639</dd><dt>mtcars$disp</dt><dd>-0.0412151199627861</dd></dl>\n"
            ],
            "text/latex": [
              "\\begin{description*}\n",
              "\\item[(Intercept)] 29.5998547561639\n",
              "\\item[mtcars\\textbackslash{}\\$disp] -0.0412151199627861\n",
              "\\end{description*}\n"
            ],
            "text/markdown": [
              "(Intercept)\n",
              ":   29.5998547561639mtcars$disp\n",
              ":   -0.0412151199627861\n",
              "\n"
            ],
            "text/plain": [
              "(Intercept) mtcars$disp \n",
              "29.59985476 -0.04121512 "
            ]
          },
          "metadata": {},
          "output_type": "display_data"
        }
      ],
      "source": [
        "# We can see from the plot that the fuel efficiency decreases as the size of the engine increases. However, if you have some new engine for which you want to know the efficiency, you need to build a model.\n",
        "model <- lm(mtcars$mpg ~ mtcars$disp)\n",
        "coef(model)"
      ]
    },
    {
      "cell_type": "markdown",
      "metadata": {
        "id": "CbmBdnI4mHY0"
      },
      "source": [
        "## Question 4\n",
        "\n",
        "The cornestone for regression modeling in R is the `lm()` function. Explain how the `lm()` function works, what is the slope and intercept, and how can we find the slope and the intercept from code and results above.\n",
        "\n",
        "## Answer 4\n",
        "\n",
        "The lm() function is to get the \"linear model\". In this case, we want to get the linear model for the mtcars$disp as a function of the feature mtcars$mpg. The lm() function creates a formula for linear regression as y ~ x1 + x2.\n",
        "We are showing relationship between the two where we say that the fuel efficiency decreases as the size increases.\n",
        "The intercept can be found by the code \"coef(model)[1]\" and the slope by the code \"coef(model)[2]\""
      ]
    },
    {
      "cell_type": "code",
      "execution_count": null,
      "metadata": {
        "colab": {
          "base_uri": "https://localhost:8080/",
          "height": 338
        },
        "id": "6mugM7vbm9T_",
        "outputId": "1b940791-e0a2-4997-df7d-83e3d6cf58a2",
        "vscode": {
          "languageId": "r"
        }
      },
      "outputs": [
        {
          "data": {
            "text/plain": [
              "\n",
              "Call:\n",
              "lm(formula = mtcars$mpg ~ mtcars$disp)\n",
              "\n",
              "Residuals:\n",
              "    Min      1Q  Median      3Q     Max \n",
              "-4.8922 -2.2022 -0.9631  1.6272  7.2305 \n",
              "\n",
              "Coefficients:\n",
              "             Estimate Std. Error t value Pr(>|t|)    \n",
              "(Intercept) 29.599855   1.229720  24.070  < 2e-16 ***\n",
              "mtcars$disp -0.041215   0.004712  -8.747 9.38e-10 ***\n",
              "---\n",
              "Signif. codes:  0 ‘***’ 0.001 ‘**’ 0.01 ‘*’ 0.05 ‘.’ 0.1 ‘ ’ 1\n",
              "\n",
              "Residual standard error: 3.251 on 30 degrees of freedom\n",
              "Multiple R-squared:  0.7183,\tAdjusted R-squared:  0.709 \n",
              "F-statistic: 76.51 on 1 and 30 DF,  p-value: 9.38e-10\n"
            ]
          },
          "metadata": {},
          "output_type": "display_data"
        }
      ],
      "source": [
        "# One way to determine the model accuracy is to look at the R-squared value from the model.\n",
        "summary(model)"
      ]
    },
    {
      "cell_type": "markdown",
      "metadata": {
        "id": "QChdChWYo88V"
      },
      "source": [
        "## Question 5\n",
        "\n",
        "What is the difference between $R^2$ and adjusted $R^2$? What can you conclude from the $R^2$ and adjusted $R^2$ of this model?\n",
        "\n",
        "## Answer 5\n",
        "\n",
        "$R^2$ assumes that all the variables tell about the variation in dependent variable. Whereas adjusted $R^2$ explains the variation% assuming only the independent variables which affect the dependent variable.  $R^2$ measures goodness of fit of regression model and adjusted $R^2$ tells about the model accuracy (corrected  $R^2$)."
      ]
    },
    {
      "cell_type": "code",
      "execution_count": null,
      "metadata": {
        "colab": {
          "base_uri": "https://localhost:8080/",
          "height": 87
        },
        "id": "5tYgEqXSpshR",
        "outputId": "a9cf66d5-6b72-4e79-9742-ba2c6a23e1b7",
        "vscode": {
          "languageId": "r"
        }
      },
      "outputs": [
        {
          "data": {
            "text/html": [
              "32"
            ],
            "text/latex": [
              "32"
            ],
            "text/markdown": [
              "32"
            ],
            "text/plain": [
              "[1] 32"
            ]
          },
          "metadata": {},
          "output_type": "display_data"
        },
        {
          "name": "stdout",
          "output_type": "stream",
          "text": [
            " [1] 22 18 29 13 25 24 16 17  4 15 11 31 23  9  2 32 20 21 27  7 26 14 28 10  8\n"
          ]
        },
        {
          "data": {
            "text/html": [
              "25"
            ],
            "text/latex": [
              "25"
            ],
            "text/markdown": [
              "25"
            ],
            "text/plain": [
              "[1] 25"
            ]
          },
          "metadata": {},
          "output_type": "display_data"
        },
        {
          "data": {
            "text/html": [
              "7"
            ],
            "text/latex": [
              "7"
            ],
            "text/markdown": [
              "7"
            ],
            "text/plain": [
              "[1] 7"
            ]
          },
          "metadata": {},
          "output_type": "display_data"
        }
      ],
      "source": [
        "# Let us take a look into data training and testing. For example, we can take 80% of the data as a training dataset and 20% of the data as a testing dataset.\n",
        "nrow(mtcars)\n",
        "# 80% of training data:\n",
        "split_size = 0.8\n",
        "# Get the number of rows that represent approx. 80% of the data:\n",
        "sample_size = floor(split_size * nrow(mtcars))\n",
        "# Set a randoom seed:\n",
        "set.seed(321)\n",
        "# Create a vector of the indices corresponding to the training dataset:\n",
        "train_indices <- sample(nrow(mtcars), size = sample_size)\n",
        "print(train_indices)\n",
        "# Extract the training data:\n",
        "train <- mtcars[train_indices, ]\n",
        "nrow(train)\n",
        "# Extract the testing data:\n",
        "test <- mtcars[-train_indices, ]\n",
        "nrow(test)"
      ]
    },
    {
      "cell_type": "markdown",
      "metadata": {
        "id": "Q4m78QG3uRCe"
      },
      "source": [
        "## Question 6\n",
        "\n",
        "What is the size of the test dataset above?\n",
        "\n",
        "## Answer\n",
        "\n",
        "The size of the test dataset above is 7 rows and all 11 features. To be precise it is around 21.8%"
      ]
    },
    {
      "cell_type": "code",
      "execution_count": null,
      "metadata": {
        "colab": {
          "base_uri": "https://localhost:8080/",
          "height": 34
        },
        "id": "f8bbsjb3ucva",
        "outputId": "40ef4a8f-f673-4a35-e5a1-b3b0a4738c77",
        "vscode": {
          "languageId": "r"
        }
      },
      "outputs": [
        {
          "data": {
            "text/html": [
              "2.37268951337553"
            ],
            "text/latex": [
              "2.37268951337553"
            ],
            "text/markdown": [
              "2.37268951337553"
            ],
            "text/plain": [
              "[1] 2.37269"
            ]
          },
          "metadata": {},
          "output_type": "display_data"
        }
      ],
      "source": [
        "# Now that we have a training and a testing dataset, let usdo some training.\n",
        "\n",
        "# First, we build a regression model using only the training data:\n",
        "model2 <- lm(mpg ~ disp, data = train)\n",
        "\n",
        "# Next, we form a data frame from our test data's disp column:\n",
        "new.data <- data.frame(disp = test$disp)\n",
        "\n",
        "# After that, we make predictions in our test set and store that in a new column in our test data:\n",
        "test$output <- predict(model2, new.data)\n",
        "\n",
        "# Finally, we compute a root-mean-square error (RMSE) term:\n",
        "sqrt( sum(test$mpg - test$output)^2 / nrow(test) )\n",
        "\n",
        "# This gives us the value for the residual standard error."
      ]
    },
    {
      "cell_type": "markdown",
      "metadata": {
        "id": "1ifIGDckyZgm"
      },
      "source": [
        "## Question 7\n",
        "\n",
        "This question has three parts:\n",
        "\n",
        "1. Why is the new residual standard error is different from before?\n",
        "2. How does this value helps us unerstanding how well the model is performing?\n",
        "3. Will this value change depending on the lines that are chosing for the training set?\n",
        "\n",
        "## Answer 7\n",
        "\n",
        "1. The new residual standard error is different because we are making a model considering only the training dataset. The test dataset is changed as we consider just a subset of our data. We are now taking only the disp column into consideration.  \n",
        "2. RSE is a measure which describes failure rate or lack of fit of a model to the data. We understand that word error in RSE explains that the lower the value is the better will be results. \n",
        "3. Yes, this value changes with the changing training set."
      ]
    },
    {
      "cell_type": "markdown",
      "metadata": {
        "id": "UpMmTfq2zoJX"
      },
      "source": [
        "# Challenge 1\n",
        "\n",
        "## Question 8\n",
        "\n",
        "- Your next answer will be a code in R. Using the `mtcars` dataset, same as before.\n",
        "- Your goal is to investigate whether we can create a linear model that correlates \"Vehicle Weight\" and \"Vehicle Fuel Efficiency in Miles per Gallon.\" You also want to show how useful that model could be in making predictions.\n",
        "- Write a code that automatically generates a training dataset with 80% of the data and a testing dataset with 20% of the data.\n",
        "- For each iteraction, make sure that you only accept a new testing dataset if it is not identical to any other testing dataset from previous iterations.\n",
        "- Calculate and store the RMSE of each iteration until you have tested 10 different test datasets extracted from the original `mtcars` dataset.\n",
        "- Create a plot with the residual standard error of each iteration.\n",
        "\n",
        "## Answer 8\n",
        "Enter your answer in the code box below."
      ]
    },
    {
      "cell_type": "code",
      "execution_count": null,
      "metadata": {
        "id": "hiyz68Ih0YCT",
        "vscode": {
          "languageId": "r"
        }
      },
      "outputs": [],
      "source": [
        "# Answer 8 (type your code below).\n",
        "\n",
        "library(dplyr)\n",
        "cardata <- select(mtcars, c(1,6))\n",
        "head(cardata)\n",
        "rv <- c()\n",
        "i <- c()\n",
        "for (val in 1:10)\n",
        "{\n",
        "nrow(cardata)\n",
        "split_size = 0.8\n",
        "sample_size = floor(split_size * nrow(cardata))\n",
        "set.seed(val)\n",
        "train_indices <- sample(nrow(mtcars), size = sample_size)\n",
        "train_indices\n",
        "train <- cardata[train_indices, ]\n",
        "nrow(train)\n",
        "test <- cardata[-train_indices, ]\n",
        "nrow(test)\n",
        "print(paste(\"Train set for iteration\", val, \"is\"))\n",
        "print(train)\n",
        "print(paste(\"Test set for iteration\", val, \"is\"))\n",
        "print(test)\n",
        "model <- lm(wt ~ mpg, data = train)\n",
        "new.data <- data.frame(mpg = test$mpg)\n",
        "test$output <- predict(model, new.data)\n",
        "rmse <- sqrt( sum(test$wt - test$output)^2 / nrow(test) )\n",
        "print(rmse)\n",
        "rv <- append(rv,rmse)\n",
        "i <- append(i, val)\n",
        "print(rv)\n",
        "}\n",
        "plot(y = rv, x = i, xlab = \"Iteration values\", ylab = \"RMSE score\")"
      ]
    },
    {
      "cell_type": "markdown",
      "metadata": {
        "id": "JAAJc5nXAya5"
      },
      "source": [
        "# Classification\n",
        "\n",
        "In contrast to regression modeling, which you have likely previously done without realizing it, classification is a less frequently encountered part of the machine learning spectrum. Instead of predicting continuous values, like numbers, in classification exercises we'll predict discrete values.\n",
        "\n",
        "## Logistic regression\n",
        "\n",
        "In contrast to regression, sometimes you want to see if a given data point is of a categorical nature instead of numeric. Before, we were given a numeric input and calculated a numeric output through a simple regression formula. But now we are going to look into a very different plot of fuel efficiency versus engine size."
      ]
    },
    {
      "cell_type": "code",
      "execution_count": 1,
      "metadata": {
        "colab": {
          "base_uri": "https://localhost:8080/",
          "height": 437
        },
        "id": "l69f4-F9B9wp",
        "outputId": "d2eb8d09-163d-4c57-c1d2-c7715174de5e",
        "vscode": {
          "languageId": "r"
        }
      },
      "outputs": [
        {
          "data": {
            "image/png": "[encoded data removed]",
            "text/plain": [
              "plot without title"
            ]
          },
          "metadata": {
            "image/png": {
              "height": 420,
              "width": 420
            }
          },
          "output_type": "display_data"
        }
      ],
      "source": [
        "plot(\n",
        "  x = mtcars$mpg,\n",
        "  y = mtcars$am,\n",
        "  xlab = \"Fuel Efficiency (Miles per Gallon)\",\n",
        "  ylab = \"Vehicle Transmission Type (0 = Automatic, 1 = Manual)\"\n",
        ")"
      ]
    },
    {
      "cell_type": "markdown",
      "metadata": {
        "id": "NMJ6UmbqCYWz"
      },
      "source": [
        "## Question 9\n",
        "\n",
        "Explain how this plot is different from the plots we saw before and why fitting a linear model to this last plot would not work.\n",
        "\n",
        "## Answer 9\n",
        "\n",
        "Linear regression is affected by noise whereas here it is not usually disturbed by noise and has convensional yes/no based model. Linear regression is based on continous dependent variables whereas the logistic regression is based on discrete independent variables. Linear model is used regression analysis and logistic is used for classification analysis. The two kinds plots are not similar as the last plot is trying to classify the data into 0 or 1 / automatic or manual, whereas earlier we were trying to analyse the data by asking questions more than yes/no based. "
      ]
    },
    {
      "cell_type": "markdown",
      "metadata": {
        "id": "4WZdFaI3CrGH"
      },
      "source": [
        "We have a different question to answer this time: how is fuel efficiency related to a car's transmission type? We can't rely on the regression modeling procedure here, unfortunately. What we need is a classification algorithm.\n",
        "\n",
        "Logistic regression is different than linear regression in that we get discrete outoputs instead of continuous ones. Before, we could get any number as a result of our regression model, but with our logistic model we should expect a binary outcomefor the transmission type; it either is an automatic transmission or it isn't. The approach here is different, as well.\n",
        "\n",
        "First we need to load the `caTools` library. The `caTools` library contains many functions and we are interested in the logistic regression function named `LogitBoost`."
      ]
    },
    {
      "cell_type": "code",
      "execution_count": 6,
      "metadata": {
        "id": "6jRfUDDrDe8a",
        "vscode": {
          "languageId": "r"
        }
      },
      "outputs": [],
      "source": [
        "# In here we define and run a function to check if a libary exists and install it if it does not.\n",
        "check.and.install.Package<-function(package_name){\n",
        "    if(!package_name%in%installed.packages()){\n",
        "        install.packages(package_name)\n",
        "    }\n",
        "}\n",
        "check.and.install.Package(\"caTools\")"
      ]
    },
    {
      "cell_type": "markdown",
      "metadata": {
        "id": "5yEr75abEHGJ"
      },
      "source": [
        "# Challenge 2\n",
        "\n",
        "## Question 10\n",
        "\n",
        "The code below attempts to:\n",
        "\n",
        "1. Create a training and a testing datasets by subsetting the data\n",
        "2. Set the label and data by picking the columns that represented each\n",
        "3. Pass those into the `LogitBoost` function and make a prediction\n",
        "\n",
        "### Question 10a\n",
        "\n",
        "There are errors in the code below. Fix all those errors.\n",
        "\n",
        "### Question 10b\n",
        "\n",
        "After fixing the errors in the code, execute it and explain its output.\n",
        "\n",
        "### Question 10c\n",
        "\n",
        "How could we tune this model to be more accurate?\n",
        "\n",
        "## Answer 10\n",
        "\n",
        "### Answer 10a\n",
        "\n",
        "ERROR_1: Error in `[.data.frame`(x, order(x, na.last = na.last, decreasing = decreasing)): undefined columns selected\n",
        "Fixing: Label.train = train[ 9] was the previous code\n",
        "corrected: Label.train = train[, 9]. \",\" was missing in the code\n",
        "\n",
        "ERROR_2: Error in `[.data.frame`(xtest, , iFeat) : undefined columns selected\n",
        "Fixing: Data.test = test\n",
        "Lab = predict(model, Data.train, type = raw)\n",
        "Corrected: Data.test = test\n",
        "Lab = predict(model, Data.train)\n",
        "Prob = predict(model, Data.train, type = \"raw\")\n",
        "Used test data instead of train which generated error.\n",
        "\n",
        "ERROR_3: Error in data.frame(carname = row.names(Data.train), Data.train$mpg, Data.train$am,  : \n",
        "  arguments imply differing number of rows: 25, 0\n",
        "### Answer 10b\n",
        "\n",
        "Enter your response in here.\n",
        "\n",
        "### Answer 10c\n",
        "\n",
        "We can check different parameters to understand how the accuracies change. We need to tune the hyperparameters to check accuracies and calculate it later to see the difference."
      ]
    },
    {
      "cell_type": "code",
      "execution_count": 10,
      "metadata": {
        "colab": {
          "base_uri": "https://localhost:8080/",
          "height": 258
        },
        "id": "YJ-qz0f1Ga3E",
        "outputId": "a20f1f90-a8e6-4334-b3d6-aa1853d8410d",
        "vscode": {
          "languageId": "r"
        }
      },
      "outputs": [
        {
          "name": "stderr",
          "output_type": "stream",
          "text": [
            "Warning message in xtfrm.data.frame(x):\n",
            "“cannot xtfrm data frames”\n"
          ]
        },
        {
          "ename": "ERROR",
          "evalue": "ignored",
          "output_type": "error",
          "traceback": [
            "Error in `[.data.frame`(x, order(x, na.last = na.last, decreasing = decreasing)): undefined columns selected\nTraceback:\n",
            "1. LogitBoost(Data.train, Label.train)",
            "2. sort(unique(ylearn))",
            "3. sort.default(unique(ylearn))",
            "4. x[order(x, na.last = na.last, decreasing = decreasing)]",
            "5. `[.data.frame`(x, order(x, na.last = na.last, decreasing = decreasing))",
            "6. stop(\"undefined columns selected\")"
          ]
        }
      ],
      "source": [
        "# Load the caTools library:\n",
        "library(caTools)\n",
        "\n",
        "# Define the size of the test and trainiong sets:\n",
        "split_size = 0.8\n",
        "\n",
        "# Get the indices for the training set:\n",
        "sample_size = floor(split_size * nrow(mtcars))\n",
        "set.seed(123)\n",
        "train_indices <- sample(seq_len(nrow(mtcars)), size = sample_size)\n",
        "\n",
        "# Subset the data into training and testing datases using indices:\n",
        "train <- mtcars[  train_indices, ]\n",
        "test  <- mtcars[- train_indices  ]\n",
        "\n",
        "# The data we want if the mtcars dataset that we split into a training set earlier, except column number 9 (the am column)\n",
        "Label.train = train[  9]\n",
        "Data.train = train[, -9]\n",
        "\n",
        "# Pass those into the LogitBoost function:\n",
        "model = LogiBoost(Data.train, Label.train)\n",
        "\n",
        "# Make a prediction:\n",
        "Data.test = test\n",
        "Lab = predict(model, Data.test, type = \"raw\")\n",
        "\n",
        "# Inspect the results as a dataframe:\n",
        "data.frame(row.names(test), test$mpg, test$am, Lab)"
      ]
    }
  ],
  "metadata": {
    "colab": {
      "collapsed_sections": [
        "icymONUv5WpB",
        "K1ZqEZi_8NQd"
      ],
      "name": "MaLeBi_Fall2022_Assignment_1.ipynb",
      "provenance": []
    },
    "kernelspec": {
      "display_name": "R",
      "name": "ir"
    },
    "language_info": {
      "name": "R"
    }
  },
  "nbformat": 4,
  "nbformat_minor": 0
}
